{
 "cells": [
  {
   "cell_type": "markdown",
   "id": "spectacular-jewelry",
   "metadata": {},
   "source": [
    "# Basic String Methods\n",
    "---\n",
    "\n",
    "In this lesson, we will be looking a string methods that deal with searching, checking the status, and editing strings.\n",
    "\n",
    "This is __not an exhaustive list__ of all methods with strings. You check out the list of methods [here](https://docs.python.org/3/library/stdtypes.html#string-methods).\n",
    "\n",
    "__Methods:__ set of code belonging to a certain data/object\n",
    "- String and List data types have special methods only for them\n",
    "- Usually, we need a period before the method name to use them\n",
    "\n",
    "```\n",
    "Example:\n",
    "\n",
    "print('Hello {}!'.format('World'))\n",
    "\n",
    ".format() is a string method!\n",
    "```\n",
    "\n",
    "__Return:__ certain methods and functions have the ability to return a value/result after its operations\n",
    "- This is useful when we __assign the result to a variable__\n",
    "- Built-in functions like: ```len(), max(), min(), int(), float()``` all return a new value so that we can assign the result to a variable or update an existing variable\n",
    "\n",
    "### Search Related Methods\n",
    "\n",
    "_Recall:_ Index starts at 0\n",
    "\n",
    "__```string_data.count(_str_arg_)```__\n",
    "- Returns how many time the string argument occurs in the given variable\n",
    "\n",
    "__```string_data.find(_str_arg_)```__\n",
    "- Returns the location of where the string argument  was found. If not found, returns -1\n",
    "\n",
    "__```string_data.index(_str_arg_)```__\n",
    "- Same as find(), but raises an [exception](https://www.tutorialspoint.com/python3/python_exceptions.htm#:~:text=In%20general%2C%20when%20a%20Python,otherwise%20it%20terminates%20and%20quits.) if str not found.\n"
   ]
  },
  {
   "cell_type": "code",
   "execution_count": 11,
   "id": "enclosed-albert",
   "metadata": {},
   "outputs": [
    {
     "name": "stdout",
     "output_type": "stream",
     "text": [
      "result_1: 1\n",
      "result_2: 3\n",
      "result_3: 1\n",
      "----------------------------------------------------------------\n",
      "result_4: 10\n",
      "result_5: -1\n",
      "result_6: 7\n",
      "----------------------------------------------------------------\n",
      "result_7: 10\n",
      "result_8: 7\n"
     ]
    },
    {
     "ename": "ValueError",
     "evalue": "substring not found",
     "output_type": "error",
     "traceback": [
      "\u001b[0;31m---------------------------------------------------------------------------\u001b[0m",
      "\u001b[0;31mValueError\u001b[0m                                Traceback (most recent call last)",
      "\u001b[0;32m<ipython-input-11-3bf5d49914e1>\u001b[0m in \u001b[0;36m<module>\u001b[0;34m\u001b[0m\n\u001b[1;32m     22\u001b[0m \u001b[0mresult_8\u001b[0m \u001b[0;34m=\u001b[0m \u001b[0mexample\u001b[0m\u001b[0;34m.\u001b[0m\u001b[0mindex\u001b[0m\u001b[0;34m(\u001b[0m\u001b[0;34m'or'\u001b[0m\u001b[0;34m)\u001b[0m \u001b[0;31m# is 7 … ‘or’ begins at index 7\u001b[0m\u001b[0;34m\u001b[0m\u001b[0;34m\u001b[0m\u001b[0m\n\u001b[1;32m     23\u001b[0m \u001b[0mprint\u001b[0m\u001b[0;34m(\u001b[0m\u001b[0;34m'result_8:'\u001b[0m\u001b[0;34m,\u001b[0m \u001b[0mresult_8\u001b[0m\u001b[0;34m)\u001b[0m\u001b[0;34m\u001b[0m\u001b[0;34m\u001b[0m\u001b[0m\n\u001b[0;32m---> 24\u001b[0;31m \u001b[0mresult_9\u001b[0m \u001b[0;34m=\u001b[0m \u001b[0mexample\u001b[0m\u001b[0;34m.\u001b[0m\u001b[0mindex\u001b[0m\u001b[0;34m(\u001b[0m\u001b[0;34m'z'\u001b[0m\u001b[0;34m)\u001b[0m \u001b[0;31m# is an error\u001b[0m\u001b[0;34m\u001b[0m\u001b[0;34m\u001b[0m\u001b[0m\n\u001b[0m\u001b[1;32m     25\u001b[0m \u001b[0mprint\u001b[0m\u001b[0;34m(\u001b[0m\u001b[0;34m'result_9:'\u001b[0m\u001b[0;34m,\u001b[0m \u001b[0mresult_9\u001b[0m\u001b[0;34m)\u001b[0m\u001b[0;34m\u001b[0m\u001b[0;34m\u001b[0m\u001b[0m\n\u001b[1;32m     26\u001b[0m \u001b[0mprint\u001b[0m\u001b[0;34m(\u001b[0m\u001b[0;34m'-'\u001b[0m\u001b[0;34m*\u001b[0m\u001b[0;36m64\u001b[0m\u001b[0;34m)\u001b[0m\u001b[0;34m\u001b[0m\u001b[0;34m\u001b[0m\u001b[0m\n",
      "\u001b[0;31mValueError\u001b[0m: substring not found"
     ]
    }
   ],
   "source": [
    "# Search Related Methods Examples\n",
    "\n",
    "example = 'hello world!'\n",
    "result_1 = example.count('e') # is 1\n",
    "result_2 = example.count('l') # (single lowercase L) is 3\n",
    "result_3 = example.count('ll') # (double lowercase L) is 1\n",
    "print('result_1:', result_1)\n",
    "print('result_2:', result_2)\n",
    "print('result_3:', result_3)\n",
    "print('-'*64)\n",
    "\n",
    "result_4 = example.find('d') # is 10 … found at index 10\n",
    "result_5 = example.find('z') # is -1 … not found\n",
    "result_6 = example.find('or') # is 7 … ‘or’ begins at index 7\n",
    "print('result_4:', result_4)\n",
    "print('result_5:', result_5)\n",
    "print('result_6:', result_6)\n",
    "print('-'*64)\n",
    "\n",
    "result_7 = example.index('d') # is 10 … found at index 10\n",
    "print('result_7:', result_7)\n",
    "result_8 = example.index('or') # is 7 … ‘or’ begins at index 7\n",
    "print('result_8:', result_8)\n",
    "result_9 = example.index('z') # is an error\n",
    "print('result_9:', result_9)\n",
    "print('-'*64)\n"
   ]
  },
  {
   "cell_type": "markdown",
   "id": "smaller-germany",
   "metadata": {},
   "source": [
    "### String Status Methods\n",
    "\n",
    "These methods will all either return ```True``` or ```False```.\n",
    "\n",
    "__```string_data.isalnum()```__\n",
    "- Checks iff alpha+numeric, no spaces or no special characters\n",
    "\n",
    "__```string_data.isalpha()```__\n",
    "- Checks iff alpha, no spaces, no numbers or no special characters\n",
    "\n",
    "__```string_data.islower()```__\n",
    "- Checks iff all characters are lowercased, doesn’t check whitespaces\n",
    "\n",
    "__```string_data.isupper()```__\n",
    "- Check iff all characters are uppercased, doesn’t check whitespaces\n",
    "\n",
    "__```string_data.isdigit()```__\n",
    "- Checks iff numeric, no spaces or no special characters, ignores unicode majority of the time, this is preferred over ```.isnumeric()``` and ```.isdecimal()```"
   ]
  },
  {
   "cell_type": "code",
   "execution_count": 12,
   "id": "adverse-approach",
   "metadata": {},
   "outputs": [
    {
     "name": "stdout",
     "output_type": "stream",
     "text": [
      "example1.isalnum(): True\n",
      "example1.isalpha(): False\n",
      "example3.islower(): False\n",
      "example3.isupper(): True\n",
      "example2.isdigit(): True\n",
      "example1.isdigit(): False\n"
     ]
    }
   ],
   "source": [
    "# String Status Methods Example\n",
    "\n",
    "example1 = 'abc123'\n",
    "example2 = '123'\n",
    "example3 = 'HELLO'\n",
    "\n",
    "print('example1.isalnum():', example1.isalnum()) # outputs True\n",
    "print('example1.isalpha():', example1.isalpha()) # outputs False\n",
    "\n",
    "print('example3.islower():', example3.islower()) # outputs False\n",
    "print('example3.isupper():', example3.isupper()) # outputs True\n",
    "\n",
    "print('example2.isdigit():', example2.isdigit()) # outputs True\n",
    "print('example1.isdigit():', example1.isdigit()) # outputs False"
   ]
  },
  {
   "cell_type": "markdown",
   "id": "outside-emission",
   "metadata": {},
   "source": [
    "### String Editing Methods\n",
    "\n",
    "These methods will return a new string\n",
    "\n",
    "__```string_data.capitalize()```__\n",
    "- Capitalizes the first letter of a string\n",
    "\n",
    "__```string_data.lower()```__\n",
    "- Returns with all characters in the string lowercased\n",
    "\n",
    "__```string_data.upper()```__\n",
    "- Returns with all characters in the string uppercased"
   ]
  },
  {
   "cell_type": "code",
   "execution_count": 13,
   "id": "silent-population",
   "metadata": {},
   "outputs": [
    {
     "name": "stdout",
     "output_type": "stream",
     "text": [
      "example: Hello, world!\n",
      "example: HELLO, WORLD!\n",
      "example: hello, world!\n"
     ]
    }
   ],
   "source": [
    "# Editing Strings Example\n",
    "# string variables must be updated with new values if you want to modify it\n",
    "\n",
    "example = 'hello, world!'\n",
    "example = example.capitalize() # example : ‘Hello, world!’\n",
    "print('example:', example)\n",
    "\n",
    "example = example.upper() # example : ‘HELLO, WORLD!’\n",
    "print('example:', example)\n",
    "\n",
    "example = example.lower() # example : ‘hello, world!’\n",
    "print('example:', example)"
   ]
  }
 ],
 "metadata": {
  "kernelspec": {
   "display_name": "Python 3",
   "language": "python",
   "name": "python3"
  },
  "language_info": {
   "codemirror_mode": {
    "name": "ipython",
    "version": 3
   },
   "file_extension": ".py",
   "mimetype": "text/x-python",
   "name": "python",
   "nbconvert_exporter": "python",
   "pygments_lexer": "ipython3",
   "version": "3.8.5"
  }
 },
 "nbformat": 4,
 "nbformat_minor": 5
}
