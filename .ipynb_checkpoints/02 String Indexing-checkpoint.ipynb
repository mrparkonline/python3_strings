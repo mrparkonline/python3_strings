{
 "cells": [
  {
   "cell_type": "markdown",
   "id": "periodic-seven",
   "metadata": {},
   "source": [
    "# String Indexing\n",
    "---\n",
    "\n",
    "In Python, we can access a certain/individual item in a sequence if the data type is __indexable__.\n",
    "\n",
    "To index/access a single item from a string, we use __[ ] square brackets__."
   ]
  },
  {
   "cell_type": "code",
   "execution_count": 3,
   "id": "psychological-health",
   "metadata": {},
   "outputs": [
    {
     "name": "stdout",
     "output_type": "stream",
     "text": [
      "word[2]: l\n",
      "word[1]: e\n",
      "word[0]: H\n",
      "word[5]: !\n"
     ]
    },
    {
     "ename": "IndexError",
     "evalue": "string index out of range",
     "output_type": "error",
     "traceback": [
      "\u001b[0;31m---------------------------------------------------------------------------\u001b[0m",
      "\u001b[0;31mIndexError\u001b[0m                                Traceback (most recent call last)",
      "\u001b[0;32m<ipython-input-3-f291ab6028d1>\u001b[0m in \u001b[0;36m<module>\u001b[0;34m\u001b[0m\n\u001b[1;32m     14\u001b[0m \u001b[0mprint\u001b[0m\u001b[0;34m(\u001b[0m\u001b[0;34m'word[0]:'\u001b[0m\u001b[0;34m,\u001b[0m \u001b[0mword\u001b[0m\u001b[0;34m[\u001b[0m\u001b[0;36m0\u001b[0m\u001b[0;34m]\u001b[0m\u001b[0;34m)\u001b[0m\u001b[0;34m\u001b[0m\u001b[0;34m\u001b[0m\u001b[0m\n\u001b[1;32m     15\u001b[0m \u001b[0mprint\u001b[0m\u001b[0;34m(\u001b[0m\u001b[0;34m'word[5]:'\u001b[0m\u001b[0;34m,\u001b[0m \u001b[0mword\u001b[0m\u001b[0;34m[\u001b[0m\u001b[0;36m5\u001b[0m\u001b[0;34m]\u001b[0m\u001b[0;34m)\u001b[0m\u001b[0;34m\u001b[0m\u001b[0;34m\u001b[0m\u001b[0m\n\u001b[0;32m---> 16\u001b[0;31m \u001b[0mprint\u001b[0m\u001b[0;34m(\u001b[0m\u001b[0;34m'word[6]:'\u001b[0m\u001b[0;34m,\u001b[0m \u001b[0mword\u001b[0m\u001b[0;34m[\u001b[0m\u001b[0;36m6\u001b[0m\u001b[0;34m]\u001b[0m\u001b[0;34m)\u001b[0m\u001b[0;34m\u001b[0m\u001b[0;34m\u001b[0m\u001b[0m\n\u001b[0m",
      "\u001b[0;31mIndexError\u001b[0m: string index out of range"
     ]
    }
   ],
   "source": [
    "# Example\n",
    "'''\n",
    "Looking at: 'Hello!'\n",
    "\n",
    " |  H  |  e  |  l  |  l  |  o  |  !  |\n",
    " 0     1     2     3     4     5     6\n",
    "\n",
    "'''\n",
    "\n",
    "word = 'Hello!'\n",
    "\n",
    "print('word[2]:', word[2])\n",
    "print('word[1]:', word[1])\n",
    "print('word[0]:', word[0])\n",
    "print('word[5]:', word[5])\n",
    "print('word[6]:', word[6])"
   ]
  },
  {
   "cell_type": "markdown",
   "id": "comparable-silence",
   "metadata": {},
   "source": [
    "__NOTE:__\n",
    "- Indexing always __starts at 0 (zero)__\n",
    "- Indexing always accesses a single item from the sequence, for strings: __a character from the targetted string__\n",
    "- The index value _cannot go beyond the limit of the sequence_. Mathematically, the index value cannot be greater than length of the sequence subtracted by one.\n",
    "    - Examine the error for ```print('word[6]:', word[6])```: gives us index out of range error\n",
    "\n",
    "```\n",
    "Looking at: 'Hello!'\n",
    "\n",
    " |  H  |  e  |  l  |  l  |  o  |  !  |\n",
    " 0     1     2     3     4     5     6\n",
    "\n",
    "```\n",
    "- Notice that our index value in this diagram starts at the __left of the item__\n",
    "- When we index, it will go to the given location and look at the item to the right of the index\n",
    "    - Therefore, ```print('word[1]:', word[1])``` gives us: ```e```\n",
    "\n",
    "### Negative Indexing\n",
    "\n",
    "Just like how we can use positive integer-indexes to access values, we can also use negative integer-indexes to access values as well."
   ]
  },
  {
   "cell_type": "code",
   "execution_count": 6,
   "id": "affected-marriage",
   "metadata": {
    "scrolled": true
   },
   "outputs": [
    {
     "name": "stdout",
     "output_type": "stream",
     "text": [
      "word[-1]: !\n",
      "word[-3]: l\n",
      "word[-5]: e\n",
      "word[-6]: H\n"
     ]
    },
    {
     "ename": "IndexError",
     "evalue": "string index out of range",
     "output_type": "error",
     "traceback": [
      "\u001b[0;31m---------------------------------------------------------------------------\u001b[0m",
      "\u001b[0;31mIndexError\u001b[0m                                Traceback (most recent call last)",
      "\u001b[0;32m<ipython-input-6-5d7a5ddd18cd>\u001b[0m in \u001b[0;36m<module>\u001b[0;34m\u001b[0m\n\u001b[1;32m     14\u001b[0m \u001b[0mprint\u001b[0m\u001b[0;34m(\u001b[0m\u001b[0;34m'word[-5]:'\u001b[0m\u001b[0;34m,\u001b[0m \u001b[0mword\u001b[0m\u001b[0;34m[\u001b[0m\u001b[0;34m-\u001b[0m\u001b[0;36m5\u001b[0m\u001b[0;34m]\u001b[0m\u001b[0;34m)\u001b[0m\u001b[0;34m\u001b[0m\u001b[0;34m\u001b[0m\u001b[0m\n\u001b[1;32m     15\u001b[0m \u001b[0mprint\u001b[0m\u001b[0;34m(\u001b[0m\u001b[0;34m'word[-6]:'\u001b[0m\u001b[0;34m,\u001b[0m \u001b[0mword\u001b[0m\u001b[0;34m[\u001b[0m\u001b[0;34m-\u001b[0m\u001b[0;36m6\u001b[0m\u001b[0;34m]\u001b[0m\u001b[0;34m)\u001b[0m\u001b[0;34m\u001b[0m\u001b[0;34m\u001b[0m\u001b[0m\n\u001b[0;32m---> 16\u001b[0;31m \u001b[0mprint\u001b[0m\u001b[0;34m(\u001b[0m\u001b[0;34m'word[-7]:'\u001b[0m\u001b[0;34m,\u001b[0m \u001b[0mword\u001b[0m\u001b[0;34m[\u001b[0m\u001b[0;34m-\u001b[0m\u001b[0;36m7\u001b[0m\u001b[0;34m]\u001b[0m\u001b[0;34m)\u001b[0m\u001b[0;34m\u001b[0m\u001b[0;34m\u001b[0m\u001b[0m\n\u001b[0m",
      "\u001b[0;31mIndexError\u001b[0m: string index out of range"
     ]
    }
   ],
   "source": [
    "# Example\n",
    "'''\n",
    "Looking at: 'Hello!'\n",
    "\n",
    " |  H  |  e  |  l  |  l  |  o  |  !  |  H  |  e  |  l  |  l  |  o  |  !  |\n",
    "-6    -5    -4    -3    -2    -1     0     1     2     3     4     5     \n",
    "\n",
    "'''\n",
    "\n",
    "word = 'Hello!'\n",
    "\n",
    "print('word[-1]:', word[-1])\n",
    "print('word[-3]:', word[-3])\n",
    "print('word[-5]:', word[-5])\n",
    "print('word[-6]:', word[-6])\n",
    "print('word[-7]:', word[-7])"
   ]
  },
  {
   "cell_type": "markdown",
   "id": "juvenile-quick",
   "metadata": {},
   "source": [
    "__NOTE:__\n",
    "- Index of ```-1``` is the quickest way to grab the last value of an indexable sequence\n",
    "- Examine that at -6 and 0 we got the value of ```H``` for ```Hello!```, they are located at the same place\n",
    "\n",
    "```\n",
    "Looking at: 'Hello!'\n",
    "\n",
    " |  H  |  e  |  l  |  l  |  o  |  !   \n",
    "-6    -5    -4    -3    -2    -1      \n",
    "\n",
    "```\n",
    "- Much like how we look at the right of positive indexes, we do the same for negative indexes\n",
    "- The indexes are laid out like an integer line with the string itself duplicated; however, Python does not actually create the string as a double\n",
    "    - It is __smart enough__ to know how to handle positive and negative indexes with a single instance of the sequence"
   ]
  }
 ],
 "metadata": {
  "kernelspec": {
   "display_name": "Python 3",
   "language": "python",
   "name": "python3"
  },
  "language_info": {
   "codemirror_mode": {
    "name": "ipython",
    "version": 3
   },
   "file_extension": ".py",
   "mimetype": "text/x-python",
   "name": "python",
   "nbconvert_exporter": "python",
   "pygments_lexer": "ipython3",
   "version": "3.8.5"
  }
 },
 "nbformat": 4,
 "nbformat_minor": 5
}
