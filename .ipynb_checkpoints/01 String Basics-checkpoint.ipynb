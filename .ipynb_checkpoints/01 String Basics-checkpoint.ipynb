{
 "cells": [
  {
   "cell_type": "markdown",
   "id": "announced-check",
   "metadata": {},
   "source": [
    "# String Basics\n",
    "---\n",
    "\n",
    "Strings are our first sequence-like data type that we get to manipulate in Python.\n",
    "\n",
    "### Strings\n",
    "\n",
    "Strings are a data type in Python 3 that represent sequence of alphanumeric characters and special symbols. Strings will be enclosed with either ```'single'``` or ```\"double\"``` quotations marks to denote them as strings. You cannot mix match the quotations.\n",
    "\n",
    "__Examples:__\n",
    "- ```\"a\"``` or ```'a'```\n",
    "- ```\"1\"``` or ```'1'```\n",
    "- ```\"0010\"``` or ```'0010'```\n",
    "\n",
    "### String Characteristics\n",
    "\n",
    "- Variables can hold string type values: ```last_name = \"Park\"```\n",
    "- A string value can be empty: ```string_variable = ''```\n",
    "- A space is considered a non-empty string\n",
    "- Strings are __comparable__; therefore, you can create boolean expressions when comparing strings\n",
    "    - ```'Hello' == 'hello'``` evaluates to False because strings are also case-sensitive (also, the ascii value comparisons are different)\n",
    "    \n",
    "### String Comparison\n",
    "\n",
    "![](https://upload.wikimedia.org/wikipedia/commons/thumb/1/1b/ASCII-Table-wide.svg/1024px-ASCII-Table-wide.svg.png)\n",
    "__Source: [Wikipedia](https://simple.wikipedia.org/wiki/ASCII#/media/File:ASCII-Table-wide.svg)__\n",
    "\n",
    "Whenever a string needs to be sorted or compared, it follows the ASCII order.\n",
    "- Numeric Symbols are less than uppercase characters\n",
    "- Uppercase characters are less than lowercase characters\n",
    "\n",
    "__Example:__"
   ]
  },
  {
   "cell_type": "code",
   "execution_count": 2,
   "id": "indian-microwave",
   "metadata": {},
   "outputs": [
    {
     "name": "stdout",
     "output_type": "stream",
     "text": [
      "True\n"
     ]
    }
   ],
   "source": [
    "# Comparing Strings\n",
    "\n",
    "name1 = 'Jake'\n",
    "name2 = 'Jane'\n",
    "\n",
    "print(name1 < name2)"
   ]
  },
  {
   "cell_type": "markdown",
   "id": "aging-framing",
   "metadata": {},
   "source": [
    "__Explanation:__\n",
    "The first two characters of the string are equal; however, we now compare the third characters of ```'k'``` vs. ```'n'```.\n",
    "\n",
    "```'n'``` is considered greater than ```'k'```; therefore, ```'Jane'``` is considered __greater__.\n",
    "\n",
    "__Determining the ASCII Value of a character__"
   ]
  },
  {
   "cell_type": "code",
   "execution_count": 4,
   "id": "external-study",
   "metadata": {},
   "outputs": [
    {
     "name": "stdout",
     "output_type": "stream",
     "text": [
      "ASCII Unicode: 65\n",
      "ASCII Unicode: 74\n",
      "ASCII Unicode: 97\n",
      "ASCII Unicode: 107\n",
      "ASCII Unicode: 101\n",
      "ASCII Unicode: 33\n"
     ]
    }
   ],
   "source": [
    "# Using the built-in ord() function\n",
    "\n",
    "x = ord('A')\n",
    "print('ASCII Unicode:', x)\n",
    "\n",
    "print('ASCII Unicode:', ord('J'))\n",
    "print('ASCII Unicode:', ord('a'))\n",
    "print('ASCII Unicode:', ord('k'))\n",
    "print('ASCII Unicode:', ord('e'))\n",
    "print('ASCII Unicode:', ord('!'))"
   ]
  },
  {
   "cell_type": "markdown",
   "id": "valued-burner",
   "metadata": {},
   "source": [
    "The ```ord()``` function allow us to see a single character's decimal value from the ASCII table. Our python interpreter will consider this value to help compare strings.\n",
    "\n",
    "To do the reverse of ```ord()```, we can use the built-in ```chr()``` function to determine the character from a ASCII unicode."
   ]
  },
  {
   "cell_type": "code",
   "execution_count": 5,
   "id": "entire-maple",
   "metadata": {},
   "outputs": [
    {
     "name": "stdout",
     "output_type": "stream",
     "text": [
      "What is 42? *\n"
     ]
    }
   ],
   "source": [
    "# Determining the character of a ASCII unicode\n",
    "\n",
    "print('What is 42?', chr(42))"
   ]
  },
  {
   "cell_type": "markdown",
   "id": "breeding-flush",
   "metadata": {},
   "source": [
    "### Strings are Immutable\n",
    "\n",
    "__Immutability__: The data type's value cannot be altered without recreation of the value stored in a variable.\n",
    "\n",
    "A single character or multiple characters cannot be changed in a string without redeclaring, recreating, or updating the variable with the intended change.\n",
    "\n",
    "_Integers, Floating Points, Booleans, and Strings_ are considered to be Immutable Data types.\n",
    "\n",
    "__Example:__ Examine the error"
   ]
  },
  {
   "cell_type": "code",
   "execution_count": 6,
   "id": "dress-island",
   "metadata": {},
   "outputs": [
    {
     "ename": "TypeError",
     "evalue": "'str' object does not support item assignment",
     "output_type": "error",
     "traceback": [
      "\u001b[0;31m---------------------------------------------------------------------------\u001b[0m",
      "\u001b[0;31mTypeError\u001b[0m                                 Traceback (most recent call last)",
      "\u001b[0;32m<ipython-input-6-3c0ceba28a1c>\u001b[0m in \u001b[0;36m<module>\u001b[0;34m\u001b[0m\n\u001b[1;32m      2\u001b[0m \u001b[0;34m\u001b[0m\u001b[0m\n\u001b[1;32m      3\u001b[0m \u001b[0mname\u001b[0m \u001b[0;34m=\u001b[0m \u001b[0;34m'Jim'\u001b[0m\u001b[0;34m\u001b[0m\u001b[0;34m\u001b[0m\u001b[0m\n\u001b[0;32m----> 4\u001b[0;31m \u001b[0mname\u001b[0m\u001b[0;34m[\u001b[0m\u001b[0;36m0\u001b[0m\u001b[0;34m]\u001b[0m \u001b[0;34m=\u001b[0m \u001b[0;34m'T'\u001b[0m \u001b[0;31m# trying to change the first character of name: Jim to Tim\u001b[0m\u001b[0;34m\u001b[0m\u001b[0;34m\u001b[0m\u001b[0m\n\u001b[0m\u001b[1;32m      5\u001b[0m \u001b[0;34m\u001b[0m\u001b[0m\n\u001b[1;32m      6\u001b[0m \u001b[0mprint\u001b[0m\u001b[0;34m(\u001b[0m\u001b[0mname\u001b[0m\u001b[0;34m)\u001b[0m\u001b[0;34m\u001b[0m\u001b[0;34m\u001b[0m\u001b[0m\n",
      "\u001b[0;31mTypeError\u001b[0m: 'str' object does not support item assignment"
     ]
    }
   ],
   "source": [
    "# Immutablity of String\n",
    "\n",
    "name = 'Jim'\n",
    "name[0] = 'T' # trying to change the first character of name: Jim to Tim\n",
    "\n",
    "print(name)"
   ]
  }
 ],
 "metadata": {
  "kernelspec": {
   "display_name": "Python 3",
   "language": "python",
   "name": "python3"
  },
  "language_info": {
   "codemirror_mode": {
    "name": "ipython",
    "version": 3
   },
   "file_extension": ".py",
   "mimetype": "text/x-python",
   "name": "python",
   "nbconvert_exporter": "python",
   "pygments_lexer": "ipython3",
   "version": "3.8.5"
  }
 },
 "nbformat": 4,
 "nbformat_minor": 5
}
