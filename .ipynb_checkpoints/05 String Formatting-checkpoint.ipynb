{
 "cells": [
  {
   "cell_type": "markdown",
   "id": "accessory-december",
   "metadata": {},
   "source": [
    "# String Formatting\n",
    "---\n",
    "\n",
    "String formatting is controlling the output of a given string especially when using the ```print()``` function. For some reason, this is a topic that is debated quite often as there are _multiple ways to do string formatting_.\n",
    "\n",
    "Consider reading __[Google's Style Guide for Strings](https://google.github.io/styleguide/pyguide.html#s3.10-strings)__ when you are using strings.\n",
    "\n",
    "### Escape Characters\n",
    "\n",
    "Certain characters are not allowed to be inserted into a string so we must use __Escape Characters__ to insert them. Escape Characters are started with a backslash ```\\``` then some characters.\n",
    "\n",
    "``` \n",
    "Escape Characters:\n",
    "\\` = Single Quote\n",
    "\\\\ = Backslash\t\n",
    "\\n = New Line\t\n",
    "\\r = Carriage Return\t\n",
    "\\t = Tab\t\n",
    "\\b = Backspace\t\n",
    "\\f = Form Feed\t\n",
    "\\ooo = Octal value\t\n",
    "\\xhh = Hex value\n",
    "```\n",
    "\n",
    "__Example:__"
   ]
  },
  {
   "cell_type": "code",
   "execution_count": 18,
   "id": "patent-reduction",
   "metadata": {},
   "outputs": [
    {
     "name": "stdout",
     "output_type": "stream",
     "text": [
      "'Hello\n",
      "World!'\n"
     ]
    }
   ],
   "source": [
    "# Escape Characters\n",
    "\n",
    "print('\\'Hello\\nWorld!\\'')"
   ]
  },
  {
   "cell_type": "markdown",
   "id": "matched-tuition",
   "metadata": {},
   "source": [
    "### Raw String\n",
    "\n",
    "Whenever you want the strings to ignore any special symbol's behaviour, we can use __raw strings__.\n",
    "\n",
    "If you want to convert a string to a raw string, it requires the symbol ```r``` in front of the string. This will help you ignore formatting operators and [escape characters](https://www.w3schools.com/python/gloss_python_escape_characters.asp).\n",
    "\n",
    "__Example:__"
   ]
  },
  {
   "cell_type": "code",
   "execution_count": 19,
   "id": "ready-payment",
   "metadata": {},
   "outputs": [
    {
     "name": "stdout",
     "output_type": "stream",
     "text": [
      "message1: 'Hello\n",
      "World!'\n",
      "message2: \\'Hello\\nWorld!\\'\n"
     ]
    }
   ],
   "source": [
    "# Raw String \n",
    "\n",
    "message1 = '\\'Hello\\nWorld!\\''\n",
    "message2 = r'\\'Hello\\nWorld!\\''\n",
    "\n",
    "print('message1:', message1)\n",
    "print('message2:', message2)"
   ]
  },
  {
   "cell_type": "markdown",
   "id": "distant-intelligence",
   "metadata": {},
   "source": [
    "### Option 1: Using the Formatting Operator\n",
    "\n",
    "```%``` operator is used to help format a string.\n",
    "\n",
    "__Important Formatting Symbols:__\n",
    "```\n",
    "%c : character\n",
    "%s : string (same as str())\n",
    "%d : decimal; often used for integers\n",
    "%f : floating point\n",
    "%g : for all digits\n",
    "```\n",
    "\n",
    "When a string has these symbols within the string, it will look for values in order to place them into the string.\n",
    "\n",
    "__Example:__"
   ]
  },
  {
   "cell_type": "code",
   "execution_count": 17,
   "id": "popular-square",
   "metadata": {},
   "outputs": [
    {
     "name": "stdout",
     "output_type": "stream",
     "text": [
      "My name is Mr. Park and I am 10000 years old.\n",
      "----------------------------------------------------------------\n",
      "Examine the following outputs for decimal values.\n",
      "-- print('%.2f' % pi) >> 3.14\n",
      "-- print('%g' % pi) >> 3.14159\n",
      "-- print('%.3f' % pi) >> 3.142\n",
      "-- print('%.3g' % pi) >> 3.14\n"
     ]
    }
   ],
   "source": [
    "# Using % operator for string formatting\n",
    "\n",
    "name = 'Mr. Park'\n",
    "age = 10000\n",
    "\n",
    "message = 'My name is %s and I am %d years old.' % (name, age)\n",
    "print(message)\n",
    "print('-'*64)\n",
    "\n",
    "# Working with Decimals:\n",
    "pi = 3.14159\n",
    "print('Examine the following outputs for decimal values.')\n",
    "print(r\"-- print('%.2f' % pi) >>\", '%.2f' % pi) #outputs 3.14\n",
    "print(r\"-- print('%g' % pi) >>\", '%g' % pi) #outputs 3.14159 (Supports up to 6 decimal, will round the last decimal)\n",
    "print(r\"-- print('%.3f' % pi) >>\", '%.3f' % pi) #outputs 3.142\n",
    "print(r\"-- print('%.3g' % pi) >>\", '%.3g' % pi) #outputs 3.14"
   ]
  },
  {
   "cell_type": "markdown",
   "id": "scientific-suspect",
   "metadata": {},
   "source": [
    "### Option 2: Using the ```.format()``` method\n",
    "\n",
    "Similar to ```%``` operator, there is a _method_ that helps with formatting as well.\n",
    "\n",
    "__Example:__"
   ]
  },
  {
   "cell_type": "code",
   "execution_count": 21,
   "id": "reported-transition",
   "metadata": {},
   "outputs": [
    {
     "name": "stdout",
     "output_type": "stream",
     "text": [
      "This is the 5th lesson for strings.\n",
      "I am: Mr. Park.\n"
     ]
    }
   ],
   "source": [
    "# Using .format()\n",
    "\n",
    "print('This is the {}th lesson for strings.'.format(5))\n",
    "\n",
    "example = \"I am: {}.\"\n",
    "print(example.format('Mr. Park'))"
   ]
  },
  {
   "cell_type": "markdown",
   "id": "single-register",
   "metadata": {},
   "source": [
    "There are two very important statements: ```{}``` and ```.format()```\n",
    "- ```{}``` is a formatter that act as a placeholder for data\n",
    "- ```.format()``` will target the formatter and supply the data for the placeholder\n",
    "\n",
    "For more information and usage of ```.format()``` please check out the tutorial at __[Digital Ocean](https://www.digitalocean.com/community/tutorials/how-to-use-string-formatters-in-python-3)__"
   ]
  }
 ],
 "metadata": {
  "kernelspec": {
   "display_name": "Python 3",
   "language": "python",
   "name": "python3"
  },
  "language_info": {
   "codemirror_mode": {
    "name": "ipython",
    "version": 3
   },
   "file_extension": ".py",
   "mimetype": "text/x-python",
   "name": "python",
   "nbconvert_exporter": "python",
   "pygments_lexer": "ipython3",
   "version": "3.8.5"
  }
 },
 "nbformat": 4,
 "nbformat_minor": 5
}
