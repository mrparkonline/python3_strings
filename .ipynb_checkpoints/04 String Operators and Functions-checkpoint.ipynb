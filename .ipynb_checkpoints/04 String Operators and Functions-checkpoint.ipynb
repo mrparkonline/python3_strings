{
 "cells": [
  {
   "cell_type": "markdown",
   "id": "bright-weight",
   "metadata": {},
   "source": [
    "# String Operators and Functions\n",
    "---\n",
    "\n",
    "### String Operators\n",
    "\n",
    "Much like how integers and floating point values have arithmetic operators, Strings also have built-in operators as well.\n",
    "\n",
    "```+``` Operator: __Concatenation__\n",
    "- Concatenation is the joining of two string values\n",
    "\n",
    "```*``` Operator: __Repetition__\n",
    "- Repetition operator allows us to repeat a certain string multiple times\n",
    "\n",
    "```[start:end:step]``` Operation: __Indexing__ and __Slicing__\n",
    "- With indexing and slicing, we can grab different parts of a given string\n",
    "\n",
    "```in || not in``` Operator: __Membership__\n",
    "- We can check if a the left operand exists or does not exist in the right operand\n",
    "\n",
    "__Examples:__"
   ]
  },
  {
   "cell_type": "code",
   "execution_count": 4,
   "id": "criminal-treasure",
   "metadata": {},
   "outputs": [
    {
     "name": "stdout",
     "output_type": "stream",
     "text": [
      "word1 + word2: Hello, World!\n",
      "word3*3: HelloHelloHello\n",
      "'H' in word1: True\n",
      "'or' not in word2: False\n"
     ]
    }
   ],
   "source": [
    "# String Operation Examples\n",
    "\n",
    "word1 = 'Hello, '\n",
    "word2 = 'World!'\n",
    " \n",
    "print('word1 + word2:', word1 + word2) # Concatenation\n",
    "\n",
    "word3 = word1[:-2] # Slicing, resulting slice assigned to variable: word3\n",
    "print('word3*3:', word3*3) # Repetition\n",
    "\n",
    "print(\"'H' in word1:\",'H' in word1) # Membership\n",
    "print(\"'or' not in word2:\", 'or' not in word2)\n"
   ]
  },
  {
   "cell_type": "markdown",
   "id": "specific-latino",
   "metadata": {},
   "source": [
    "### Built-in Functions with Strings\n",
    "\n",
    "__Using ```max()``` and ```min()```__\n",
    "- If given a single string argument, it will return a single character that has the greatest or the least ASCII value respectively\n",
    "- If given multiple string arguments, they will compare each string's characters in order and return the entire string that has the greatest or the least ASCII value respectively\n",
    "\n",
    "_Example:_"
   ]
  },
  {
   "cell_type": "code",
   "execution_count": 6,
   "id": "frozen-elizabeth",
   "metadata": {},
   "outputs": [
    {
     "name": "stdout",
     "output_type": "stream",
     "text": [
      "min('HelloWorld!'): !\n",
      "max('Hello', 'Goodbye!', 'World!'): World!\n"
     ]
    }
   ],
   "source": [
    "# Using max() and min() on strings\n",
    "\n",
    "print(\"min('HelloWorld!'):\", min('HelloWorld!'))\n",
    "print(\"max('Hello', 'Goodbye!', 'World!'):\", max('Hello', 'Goodbye!', 'World!'))"
   ]
  },
  {
   "cell_type": "markdown",
   "id": "statutory-vietnam",
   "metadata": {},
   "source": [
    "__Using ```len()```__\n",
    "- Given a single string parameter, it will count how many alphanumeric and special characters there are as a positive integer\n",
    "\n",
    "_Example:_"
   ]
  },
  {
   "cell_type": "code",
   "execution_count": 10,
   "id": "unique-commission",
   "metadata": {},
   "outputs": [
    {
     "name": "stdout",
     "output_type": "stream",
     "text": [
      "len('Hello, World!'): 13\n",
      "len(''): 0\n",
      "len(' '): 1\n",
      "<class 'str'>\n"
     ]
    }
   ],
   "source": [
    "# Using len() on a string\n",
    "\n",
    "print(\"len('Hello, World!'):\", len('Hello, World!'))\n",
    "print(\"len(''):\", len('')) # Empty String\n",
    "print(\"len(' '):\", len(' ')) # Single whitespace\n",
    "print(type(''))"
   ]
  },
  {
   "cell_type": "markdown",
   "id": "hired-seeker",
   "metadata": {},
   "source": [
    "__Basic Type & Type Conversion Related Functions__\n",
    "```str()``` function is used to convert a given argument into a string\n",
    "- Anything from the standard python library can be converted to a string\n",
    "\n",
    "```type()``` function returns ```<class 'str'>``` on string values indicating that the given argument is a string value\n",
    "\n",
    "```int()``` function converts a numeric string to an integer\n",
    "- the string argument must be able to turn into an integer\n",
    "- converting a string-based decimal to an integer will result in error\n",
    "- _Example:_ ```int('42')``` is 42, ```int('3.14')``` is an error\n",
    "\n",
    "```float()``` function converts a decimal-like string to a floating point\n",
    "- if the numeric string has no decimal point, it will add a decimal point of .0\n",
    "- _Example:_ ```float('3')``` is 3.0, ```float('3.14')``` is 3.14\n",
    "\n",
    "```bool()``` function converts a string to a Boolean value\n",
    "- Non-empty strings are ```True```\n",
    "- An Empty string are ```False``` "
   ]
  }
 ],
 "metadata": {
  "kernelspec": {
   "display_name": "Python 3",
   "language": "python",
   "name": "python3"
  },
  "language_info": {
   "codemirror_mode": {
    "name": "ipython",
    "version": 3
   },
   "file_extension": ".py",
   "mimetype": "text/x-python",
   "name": "python",
   "nbconvert_exporter": "python",
   "pygments_lexer": "ipython3",
   "version": "3.8.5"
  }
 },
 "nbformat": 4,
 "nbformat_minor": 5
}
