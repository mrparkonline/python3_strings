{
 "cells": [
  {
   "cell_type": "markdown",
   "id": "global-stupid",
   "metadata": {},
   "source": [
    "# More String Methods\n",
    "---\n",
    "\n",
    "The string data type has a lot of useful built-in methods that can help us solve more complex problems.\n",
    "\n",
    "### Removing Leading and/or Trailing Spaces\n",
    "\n",
    "These methods do not remove spaces within the text.\n",
    "\n",
    "__```string_data.strip()```__\n",
    "- Returns a string that loses all leading and trailing white spaces\n",
    "\n",
    "__```string_data.lstrip()```__\n",
    "- Returns a string that loses all leading white spaces\n",
    "\n",
    "__```string_data.rstrip()```__\n",
    "- Returns a string that loses all trailing white spaces"
   ]
  },
  {
   "cell_type": "code",
   "execution_count": 15,
   "id": "hidden-arnold",
   "metadata": {},
   "outputs": [
    {
     "name": "stdout",
     "output_type": "stream",
     "text": [
      "word1.lstrip(): h ello    world.\n",
      "word1.rstrip():    h ello world.\n",
      "word1.strip(): h ello world.\n"
     ]
    }
   ],
   "source": [
    "# Strip() Examples\n",
    "\n",
    "word1 = '   h ello   '\n",
    "# 3 spaces then h ello then 3 spaces\n",
    "print('word1.lstrip():', word1.lstrip(), 'world.') \n",
    "print('word1.rstrip():', word1.rstrip(), 'world.')\n",
    "print('word1.strip():', word1.strip(), 'world.')"
   ]
  },
  {
   "cell_type": "markdown",
   "id": "pleasant-business",
   "metadata": {},
   "source": [
    "### Using ```replace()```\n",
    "\n",
    "__```replace()```__ is a powerful function helps us modify a string by targeting a pattern.\n",
    "\n",
    "__```string_data.replace(old_str, new_str, limit)```__\n",
    "- Returns a new string that replaces all instances of the ```old_str``` with the ```new_str```\n",
    "- Limit (optional argument) doesn’t have to be set, if it is set, it will only apply the replace method based on the limit\n",
    "- Therefore, this method can either use either 2 or 3 arguments"
   ]
  },
  {
   "cell_type": "code",
   "execution_count": 16,
   "id": "violent-insider",
   "metadata": {},
   "outputs": [
    {
     "name": "stdout",
     "output_type": "stream",
     "text": [
      "test1: HeLLo WorLd\n",
      "test2: Heooo World\n",
      "test3: Goodbye World\n",
      "test4: HelloWorld\n"
     ]
    }
   ],
   "source": [
    "# Using replace() examples\n",
    "\n",
    "word = 'Hello World'\n",
    "test1 = word.replace('l', 'L')\n",
    "print('test1:', test1)\n",
    "\n",
    "test2 = word.replace('l', 'o', 2)\n",
    "print('test2:', test2)\n",
    "\n",
    "test3 = word.replace('Hello','Goodbye')\n",
    "print('test3:', test3)\n",
    "\n",
    "test4 = word.replace(' ', '')\n",
    "print('test4:', test4)"
   ]
  },
  {
   "cell_type": "markdown",
   "id": "varying-requirement",
   "metadata": {},
   "source": [
    "### Using ```startswith()``` and ```endswith()```\n",
    "\n",
    "String methods that can check the start or the end of a string.\n",
    "\n",
    "__```string_data.startswith('pattern', start_index, end_index)```__\n",
    "__```string_data.endswith('pattern', start_index, end_index)```__\n",
    "- Both of these methods return either True/False\n",
    "- It looks for the string __pattern__ argument either at the start or the end.\n",
    "- The indexes of start and/or end are both optional\n",
    "    - they are integer based arguments\n"
   ]
  },
  {
   "cell_type": "code",
   "execution_count": 17,
   "id": "married-jewel",
   "metadata": {},
   "outputs": [
    {
     "name": "stdout",
     "output_type": "stream",
     "text": [
      "word.startswith('Hell'): True\n",
      "word.endswith('rld'): True\n",
      "word.endswith('!'): False\n",
      "word.startswith('h'): False\n",
      "word.startswith(' ',5): True\n",
      "word.endswith('or', 2, 9): True\n"
     ]
    }
   ],
   "source": [
    "# startswith() & endswith() examples\n",
    "\n",
    "word = 'Hello World'\n",
    "\n",
    "print(\"word.startswith('Hell'):\", word.startswith('Hell')) # True\n",
    "print(\"word.endswith('rld'):\", word.endswith('rld')) # True\n",
    "\n",
    "print(\"word.endswith('!'):\", word.endswith('!')) # False\n",
    "print(\"word.startswith('h'):\", word.startswith('h')) # False\n",
    "\n",
    "print(\"word.startswith(' ',5):\", word.startswith(' ',5)) # True\n",
    "print(\"word.endswith('or', 2, 9):\", word.endswith('or', 2, 9)) # True because word[2:9] → ‘llo wor’"
   ]
  },
  {
   "cell_type": "markdown",
   "id": "greatest-rebound",
   "metadata": {},
   "source": [
    "### Items in a Sequence to String\n",
    "\n",
    "__```str_data.join(iterable_data)```__\n",
    "- the ```join()``` method returns a new string that combines all items in the ```sequence/iterable_data``` separated by the ```str_data``` provided\n",
    "- Each item in the sequence/iterable data must be a string type"
   ]
  },
  {
   "cell_type": "code",
   "execution_count": 18,
   "id": "aboriginal-power",
   "metadata": {},
   "outputs": [
    {
     "name": "stdout",
     "output_type": "stream",
     "text": [
      "1, 2, 3\n",
      "h e l l o w o r l d\n"
     ]
    }
   ],
   "source": [
    "# .join() example\n",
    "\n",
    "new_str = ', '.join(['1', '2', '3']) # new_str is: “1, 2, 3”\n",
    "new_str2 = ' '.join('helloworld') # new_str2: “h e l l o w o r l d”\n",
    "\n",
    "print(new_str)\n",
    "print(new_str2)"
   ]
  },
  {
   "cell_type": "markdown",
   "id": "basic-replication",
   "metadata": {},
   "source": [
    "### String to a List\n",
    "\n",
    "There are many ways to convert a string data into a list.\n",
    "\n",
    "```list()``` function\n",
    "- This function allows to convert a string to a list\n",
    "- Each individual characters will be separated as a single item in the list\n",
    "\n",
    "```sorted()``` function\n",
    "- This function will sort the given string in ASCII order\n",
    "- The function will return a __list__\n",
    "- Each individual character in the string will be an item in the list\n",
    "\n",
    "__Controlled Way to convert a string to a list: ```split()```__\n",
    "\n",
    "__```str_data.split('pattern', numberOfTime)```__\n",
    "\n",
    "- The ```split()``` method separates a string into a list\n",
    "- Both arguments are optional, and when they are not specified: they will separate by spaces\n",
    "    - ```pattern``` : this looks for a pattern to separate each items by\n",
    "    - ```numberOfTime``` : this integer sets how many times to separate the string"
   ]
  },
  {
   "cell_type": "code",
   "execution_count": 19,
   "id": "residential-brush",
   "metadata": {},
   "outputs": [
    {
     "name": "stdout",
     "output_type": "stream",
     "text": [
      "['H', 'e', 'l', 'l', 'o', ' ', 'W', 'o', 'r', 'l', 'd', '!']\n",
      "[' ', '.', 'M', 'P', 'a', 'k', 'r', 'r']\n",
      "----------------------------------------------------------------\n",
      "result1: ['hello', 'world']\n",
      "result2: ['a', 'b', 'c', 'd', 'e']\n",
      "result3: ['1', '2', '3$4$5']\n"
     ]
    }
   ],
   "source": [
    "# String to a List examples\n",
    "\n",
    "phrase1 = 'Hello World!'\n",
    "print(list(phrase1))\n",
    "\n",
    "phrase2 = 'Mr. Park'\n",
    "print(sorted(phrase2))\n",
    "print('-'*64)\n",
    "\n",
    "# Using .split()\n",
    "result1 = 'hello world'.split()\n",
    "print('result1:', result1)\n",
    "\n",
    "result2 = 'a,b,c,d,e'.split(',')\n",
    "print('result2:', result2)\n",
    "\n",
    "result3 = '1$2$3$4$5'.split('$',2)\n",
    "print('result3:', result3)"
   ]
  }
 ],
 "metadata": {
  "kernelspec": {
   "display_name": "Python 3",
   "language": "python",
   "name": "python3"
  },
  "language_info": {
   "codemirror_mode": {
    "name": "ipython",
    "version": 3
   },
   "file_extension": ".py",
   "mimetype": "text/x-python",
   "name": "python",
   "nbconvert_exporter": "python",
   "pygments_lexer": "ipython3",
   "version": "3.8.5"
  }
 },
 "nbformat": 4,
 "nbformat_minor": 5
}
