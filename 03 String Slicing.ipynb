{
 "cells": [
  {
   "cell_type": "markdown",
   "id": "micro-eagle",
   "metadata": {},
   "source": [
    "# String Slicing\n",
    "---\n",
    "\n",
    "In Python, you can also separate certain sections of the data if the date type is __slicable__.\n",
    "\n",
    "Similar to indexing, we also use __[ ] square brackets__ to slice sequences.\n",
    "\n",
    "### Slicing Format\n",
    "\n",
    "Given a string value, we can slice it as following:\n",
    "```\n",
    "\n",
    "string_value[starting_index : ending_index : step_value]\n",
    "\n",
    "```\n",
    "- __Slicing generates a new string__; therefore, slices can be set to a variable\n",
    "- The slice will start and include the value at ```starting_index```\n",
    "- The slice will end at ```ending_index```, but not include the value at the ```ending_index```\n",
    "- The ```ending_index``` can be a value greater than the largest index possible\n",
    "- If the ```step_value``` is not specified, it is set to: ```1```\n",
    "- If the slicing values are set to an impossible outcome, it will return an empty string: ```''```"
   ]
  },
  {
   "cell_type": "code",
   "execution_count": 27,
   "id": "junior-serve",
   "metadata": {},
   "outputs": [
    {
     "name": "stdout",
     "output_type": "stream",
     "text": [
      "word: Hello!\n",
      "----------------------\n",
      "word[0:6]: Hello!\n",
      "word[0:5]: Hello\n",
      "----------------------\n",
      "word[1:4]: ell\n",
      "word[:3]: Hel\n",
      "word[2:]: llo!\n",
      "word[:]: Hello!\n",
      "----------------------\n",
      "word[0:6:2]: Hlo\n",
      "word[::2]: Hlo\n",
      "word[1:4:3]: e\n",
      "word[::-1]: !olleH\n",
      "word[-5:-2]: ell\n",
      "word[6:0:-1]: ell\n",
      "word[-1:-6:-1]: !olle\n",
      "----------------------\n",
      "Some impossible slices and their results:\n",
      "word[6:0]:  << en empty string has been outputted.\n",
      "word[:20]: Hello! << There are no characters beyond the index of 6\n",
      "word[1:4:-1]  << en empty string has been outputted.\n"
     ]
    }
   ],
   "source": [
    "# Example\n",
    "'''\n",
    "Looking at: 'Hello!'\n",
    "\n",
    "  |  H  |  e  |  l  |  l  |  o  |  !  |\n",
    "  0     1     2     3     4     5     6\n",
    "\n",
    "  |  H  |  e  |  l  |  l  |  o  |  !   \n",
    " -6    -5    -4    -3    -2    -1 \n",
    "\n",
    "'''\n",
    "\n",
    "word = 'Hello!'\n",
    "\n",
    "print('word:', word)\n",
    "print('----------------------')\n",
    "print('word[0:6]:', word[0:6])\n",
    "print('word[0:5]:', word[0:5])\n",
    "print('----------------------')\n",
    "print('word[1:4]:', word[1:4])\n",
    "print('word[:3]:', word[:3])\n",
    "print('word[2:]:', word[2:])\n",
    "print('word[:]:', word[:])\n",
    "print('----------------------')\n",
    "print('word[0:6:2]:', word[0:6:2])\n",
    "print('word[::2]:', word[::2])\n",
    "print('word[1:4:3]:', word[1:4:3])\n",
    "print('word[::-1]:', word[::-1])\n",
    "print('word[-5:-2]:', word[-5:-2])\n",
    "print('word[6:0:-1]:', word[-5:-2])\n",
    "print('word[-1:-6:-1]:', word[-1:-6:-1])\n",
    "print('----------------------')\n",
    "print('Some impossible slices and their results:')\n",
    "print('word[6:0]:', word[6:0], '<< en empty string has been outputted.')\n",
    "print('word[:20]:', word[:20], '<< There are no characters beyond the index of 6')\n",
    "print('word[1:4:-1]', word[1:4:-1], '<< en empty string has been outputted.')"
   ]
  },
  {
   "cell_type": "markdown",
   "id": "armed-aircraft",
   "metadata": {},
   "source": [
    "__Example:__ Iterate through a string backwards"
   ]
  },
  {
   "cell_type": "code",
   "execution_count": 28,
   "id": "durable-cliff",
   "metadata": {},
   "outputs": [
    {
     "name": "stdout",
     "output_type": "stream",
     "text": [
      "Current Character: !\n",
      "Current Character: d\n",
      "Current Character: l\n",
      "Current Character: r\n",
      "Current Character: o\n",
      "Current Character: W\n",
      "Current Character:  \n",
      "Current Character: o\n",
      "Current Character: l\n",
      "Current Character: l\n",
      "Current Character: e\n",
      "Current Character: H\n"
     ]
    }
   ],
   "source": [
    "# Example\n",
    "# Looking at a string backwards through for loop\n",
    "\n",
    "word = 'Hello World!'\n",
    "\n",
    "for character in word[::-1]:\n",
    "    print('Current Character:', character)"
   ]
  }
 ],
 "metadata": {
  "kernelspec": {
   "display_name": "Python 3",
   "language": "python",
   "name": "python3"
  },
  "language_info": {
   "codemirror_mode": {
    "name": "ipython",
    "version": 3
   },
   "file_extension": ".py",
   "mimetype": "text/x-python",
   "name": "python",
   "nbconvert_exporter": "python",
   "pygments_lexer": "ipython3",
   "version": "3.8.5"
  }
 },
 "nbformat": 4,
 "nbformat_minor": 5
}
